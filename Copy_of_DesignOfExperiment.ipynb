{
  "cells": [
    {
      "cell_type": "markdown",
      "metadata": {
        "id": "bdq8ydSd4xUy"
      },
      "source": [
        "# DoE (Design of Experiment)\n",
        "Disediakan dataset <i>Banknote Authentication</i> yang dapat didownload pada link [berikut](https://archive.ics.uci.edu/ml/datasets/banknote+authentication#). Lakukan prediksi apakah suatu data banknote authentic atau forgery (kolom **class**), bernilai 0 jika authentic, dan 1 jika forgery."
      ]
    },
    {
      "cell_type": "markdown",
      "metadata": {
        "id": "XAHqneEY7b7b"
      },
      "source": [
        "# 0. Loading Data and Library"
      ]
    },
    {
      "cell_type": "code",
      "execution_count": 2,
      "metadata": {
        "id": "zsBbpcIi7fHi"
      },
      "outputs": [],
      "source": [
        "# Put your library here\n",
        "import numpy as np\n",
        "import pandas as pd\n",
        "import seaborn as sns\n",
        "import matplotlib.pyplot as plt\n",
        "from sklearn.preprocessing import MinMaxScaler\n",
        "from sklearn.model_selection import train_test_split, GridSearchCV, cross_val_score, StratifiedKFold\n",
        "from sklearn.linear_model import LogisticRegression\n",
        "from sklearn.svm import SVC\n",
        "from sklearn.metrics import confusion_matrix, f1_score, classification_report\n",
        "from sklearn.ensemble import StackingClassifier\n",
        "from xgboost import XGBClassifier"
      ]
    },
    {
      "cell_type": "code",
      "execution_count": 3,
      "metadata": {
        "colab": {
          "base_uri": "https://localhost:8080/",
          "height": 423
        },
        "id": "OWLkjeKo7gdD",
        "outputId": "23319e3d-fd74-422c-8afc-951553f6d8f6"
      },
      "outputs": [
        {
          "data": {
            "text/html": [
              "<div>\n",
              "<style scoped>\n",
              "    .dataframe tbody tr th:only-of-type {\n",
              "        vertical-align: middle;\n",
              "    }\n",
              "\n",
              "    .dataframe tbody tr th {\n",
              "        vertical-align: top;\n",
              "    }\n",
              "\n",
              "    .dataframe thead th {\n",
              "        text-align: right;\n",
              "    }\n",
              "</style>\n",
              "<table border=\"1\" class=\"dataframe\">\n",
              "  <thead>\n",
              "    <tr style=\"text-align: right;\">\n",
              "      <th></th>\n",
              "      <th>variance</th>\n",
              "      <th>skewness</th>\n",
              "      <th>curtosis</th>\n",
              "      <th>entropy</th>\n",
              "      <th>class</th>\n",
              "    </tr>\n",
              "  </thead>\n",
              "  <tbody>\n",
              "    <tr>\n",
              "      <th>0</th>\n",
              "      <td>3.62160</td>\n",
              "      <td>8.66610</td>\n",
              "      <td>-2.8073</td>\n",
              "      <td>-0.44699</td>\n",
              "      <td>0</td>\n",
              "    </tr>\n",
              "    <tr>\n",
              "      <th>1</th>\n",
              "      <td>4.54590</td>\n",
              "      <td>8.16740</td>\n",
              "      <td>-2.4586</td>\n",
              "      <td>-1.46210</td>\n",
              "      <td>0</td>\n",
              "    </tr>\n",
              "    <tr>\n",
              "      <th>2</th>\n",
              "      <td>3.86600</td>\n",
              "      <td>-2.63830</td>\n",
              "      <td>1.9242</td>\n",
              "      <td>0.10645</td>\n",
              "      <td>0</td>\n",
              "    </tr>\n",
              "    <tr>\n",
              "      <th>3</th>\n",
              "      <td>3.45660</td>\n",
              "      <td>9.52280</td>\n",
              "      <td>-4.0112</td>\n",
              "      <td>-3.59440</td>\n",
              "      <td>0</td>\n",
              "    </tr>\n",
              "    <tr>\n",
              "      <th>4</th>\n",
              "      <td>0.32924</td>\n",
              "      <td>-4.45520</td>\n",
              "      <td>4.5718</td>\n",
              "      <td>-0.98880</td>\n",
              "      <td>0</td>\n",
              "    </tr>\n",
              "    <tr>\n",
              "      <th>...</th>\n",
              "      <td>...</td>\n",
              "      <td>...</td>\n",
              "      <td>...</td>\n",
              "      <td>...</td>\n",
              "      <td>...</td>\n",
              "    </tr>\n",
              "    <tr>\n",
              "      <th>1367</th>\n",
              "      <td>0.40614</td>\n",
              "      <td>1.34920</td>\n",
              "      <td>-1.4501</td>\n",
              "      <td>-0.55949</td>\n",
              "      <td>1</td>\n",
              "    </tr>\n",
              "    <tr>\n",
              "      <th>1368</th>\n",
              "      <td>-1.38870</td>\n",
              "      <td>-4.87730</td>\n",
              "      <td>6.4774</td>\n",
              "      <td>0.34179</td>\n",
              "      <td>1</td>\n",
              "    </tr>\n",
              "    <tr>\n",
              "      <th>1369</th>\n",
              "      <td>-3.75030</td>\n",
              "      <td>-13.45860</td>\n",
              "      <td>17.5932</td>\n",
              "      <td>-2.77710</td>\n",
              "      <td>1</td>\n",
              "    </tr>\n",
              "    <tr>\n",
              "      <th>1370</th>\n",
              "      <td>-3.56370</td>\n",
              "      <td>-8.38270</td>\n",
              "      <td>12.3930</td>\n",
              "      <td>-1.28230</td>\n",
              "      <td>1</td>\n",
              "    </tr>\n",
              "    <tr>\n",
              "      <th>1371</th>\n",
              "      <td>-2.54190</td>\n",
              "      <td>-0.65804</td>\n",
              "      <td>2.6842</td>\n",
              "      <td>1.19520</td>\n",
              "      <td>1</td>\n",
              "    </tr>\n",
              "  </tbody>\n",
              "</table>\n",
              "<p>1372 rows × 5 columns</p>\n",
              "</div>"
            ],
            "text/plain": [
              "      variance  skewness  curtosis  entropy  class\n",
              "0      3.62160   8.66610   -2.8073 -0.44699      0\n",
              "1      4.54590   8.16740   -2.4586 -1.46210      0\n",
              "2      3.86600  -2.63830    1.9242  0.10645      0\n",
              "3      3.45660   9.52280   -4.0112 -3.59440      0\n",
              "4      0.32924  -4.45520    4.5718 -0.98880      0\n",
              "...        ...       ...       ...      ...    ...\n",
              "1367   0.40614   1.34920   -1.4501 -0.55949      1\n",
              "1368  -1.38870  -4.87730    6.4774  0.34179      1\n",
              "1369  -3.75030 -13.45860   17.5932 -2.77710      1\n",
              "1370  -3.56370  -8.38270   12.3930 -1.28230      1\n",
              "1371  -2.54190  -0.65804    2.6842  1.19520      1\n",
              "\n",
              "[1372 rows x 5 columns]"
            ]
          },
          "execution_count": 3,
          "metadata": {},
          "output_type": "execute_result"
        }
      ],
      "source": [
        "# Read data here\n",
        "df = pd.read_csv(\"data_banknote_authentication.csv\")\n",
        "df"
      ]
    },
    {
      "cell_type": "markdown",
      "metadata": {
        "id": "JYGzyrantR1r"
      },
      "source": [
        "# I. Data Understanding\n",
        "Tujuan dari bagian ini adalah peserta dapat memahami kualitas dari data yang diberikan. Hal ini meliputi:\n",
        "1. Ukuran data\n",
        "2. Statistik dari tiap fitur\n",
        "3. Pencilan (outlier)\n",
        "4. Korelasi\n",
        "5. Distribusi"
      ]
    },
    {
      "cell_type": "markdown",
      "metadata": {
        "id": "8SMf9-ikuoCe"
      },
      "source": [
        "## I.1\n",
        "Carilah:\n",
        "1. Ukuran dari data (instances dan features)\n",
        "2. Tipe dari tiap-tiap fitur\n",
        "3. Banyaknya unique values dari fitur yang bertipe kategorikal\n",
        "4. Nilai minimum, maksimum, rata-rata, median, dan standar deviasi dari fitur yang tidak bertipe kategorikal"
      ]
    },
    {
      "cell_type": "code",
      "execution_count": 4,
      "metadata": {
        "colab": {
          "base_uri": "https://localhost:8080/"
        },
        "id": "SAxrfZySuM3-",
        "outputId": "c15aa627-1150-45f0-f142-2826e342be58"
      },
      "outputs": [
        {
          "name": "stdout",
          "output_type": "stream",
          "text": [
            "<class 'pandas.core.frame.DataFrame'>\n",
            "RangeIndex: 1372 entries, 0 to 1371\n",
            "Data columns (total 5 columns):\n",
            " #   Column    Non-Null Count  Dtype  \n",
            "---  ------    --------------  -----  \n",
            " 0   variance  1372 non-null   float64\n",
            " 1   skewness  1372 non-null   float64\n",
            " 2   curtosis  1372 non-null   float64\n",
            " 3   entropy   1372 non-null   float64\n",
            " 4   class     1372 non-null   int64  \n",
            "dtypes: float64(4), int64(1)\n",
            "memory usage: 53.7 KB\n"
          ]
        }
      ],
      "source": [
        "# I.1 Put your code here\n",
        "df.info()"
      ]
    },
    {
      "cell_type": "markdown",
      "metadata": {
        "id": "tOoHBwLTAPWj"
      },
      "source": [
        "1. Ukuran datanya adalah 1372 baris x 5 kolom.\n",
        "2. Fitur variance, skewness, curtosis, entropy merupakan fitur numerik. Class merupakan fitur kategorikal karena walaupun tipe datanya integer, class melambangkan suatu kelas-kelas tertentu (kategori) yang dinyatakan sebagai angka."
      ]
    },
    {
      "cell_type": "code",
      "execution_count": 5,
      "metadata": {
        "colab": {
          "base_uri": "https://localhost:8080/"
        },
        "id": "bh2tZmla_-01",
        "outputId": "44d3e13c-a63a-4a27-8689-3e5d6abbb9f9"
      },
      "outputs": [
        {
          "data": {
            "text/plain": [
              "array([0, 1], dtype=int64)"
            ]
          },
          "execution_count": 5,
          "metadata": {},
          "output_type": "execute_result"
        }
      ],
      "source": [
        "df['class'].unique()"
      ]
    },
    {
      "cell_type": "markdown",
      "metadata": {
        "id": "djAdDCkRC--8"
      },
      "source": [
        "3. Terdapat 2 unique value untuk kolom class, yaitu 0 dan 1."
      ]
    },
    {
      "cell_type": "code",
      "execution_count": 6,
      "metadata": {
        "colab": {
          "base_uri": "https://localhost:8080/",
          "height": 300
        },
        "id": "CatwWpQg__Nl",
        "outputId": "f6e35890-755a-443f-ad31-1ca5c34b44dd"
      },
      "outputs": [
        {
          "data": {
            "text/html": [
              "<div>\n",
              "<style scoped>\n",
              "    .dataframe tbody tr th:only-of-type {\n",
              "        vertical-align: middle;\n",
              "    }\n",
              "\n",
              "    .dataframe tbody tr th {\n",
              "        vertical-align: top;\n",
              "    }\n",
              "\n",
              "    .dataframe thead th {\n",
              "        text-align: right;\n",
              "    }\n",
              "</style>\n",
              "<table border=\"1\" class=\"dataframe\">\n",
              "  <thead>\n",
              "    <tr style=\"text-align: right;\">\n",
              "      <th></th>\n",
              "      <th>variance</th>\n",
              "      <th>skewness</th>\n",
              "      <th>curtosis</th>\n",
              "      <th>entropy</th>\n",
              "    </tr>\n",
              "  </thead>\n",
              "  <tbody>\n",
              "    <tr>\n",
              "      <th>count</th>\n",
              "      <td>1372.000000</td>\n",
              "      <td>1372.000000</td>\n",
              "      <td>1372.000000</td>\n",
              "      <td>1372.000000</td>\n",
              "    </tr>\n",
              "    <tr>\n",
              "      <th>mean</th>\n",
              "      <td>0.433735</td>\n",
              "      <td>1.922353</td>\n",
              "      <td>1.397627</td>\n",
              "      <td>-1.191657</td>\n",
              "    </tr>\n",
              "    <tr>\n",
              "      <th>std</th>\n",
              "      <td>2.842763</td>\n",
              "      <td>5.869047</td>\n",
              "      <td>4.310030</td>\n",
              "      <td>2.101013</td>\n",
              "    </tr>\n",
              "    <tr>\n",
              "      <th>min</th>\n",
              "      <td>-7.042100</td>\n",
              "      <td>-13.773100</td>\n",
              "      <td>-5.286100</td>\n",
              "      <td>-8.548200</td>\n",
              "    </tr>\n",
              "    <tr>\n",
              "      <th>25%</th>\n",
              "      <td>-1.773000</td>\n",
              "      <td>-1.708200</td>\n",
              "      <td>-1.574975</td>\n",
              "      <td>-2.413450</td>\n",
              "    </tr>\n",
              "    <tr>\n",
              "      <th>50%</th>\n",
              "      <td>0.496180</td>\n",
              "      <td>2.319650</td>\n",
              "      <td>0.616630</td>\n",
              "      <td>-0.586650</td>\n",
              "    </tr>\n",
              "    <tr>\n",
              "      <th>75%</th>\n",
              "      <td>2.821475</td>\n",
              "      <td>6.814625</td>\n",
              "      <td>3.179250</td>\n",
              "      <td>0.394810</td>\n",
              "    </tr>\n",
              "    <tr>\n",
              "      <th>max</th>\n",
              "      <td>6.824800</td>\n",
              "      <td>12.951600</td>\n",
              "      <td>17.927400</td>\n",
              "      <td>2.449500</td>\n",
              "    </tr>\n",
              "  </tbody>\n",
              "</table>\n",
              "</div>"
            ],
            "text/plain": [
              "          variance     skewness     curtosis      entropy\n",
              "count  1372.000000  1372.000000  1372.000000  1372.000000\n",
              "mean      0.433735     1.922353     1.397627    -1.191657\n",
              "std       2.842763     5.869047     4.310030     2.101013\n",
              "min      -7.042100   -13.773100    -5.286100    -8.548200\n",
              "25%      -1.773000    -1.708200    -1.574975    -2.413450\n",
              "50%       0.496180     2.319650     0.616630    -0.586650\n",
              "75%       2.821475     6.814625     3.179250     0.394810\n",
              "max       6.824800    12.951600    17.927400     2.449500"
            ]
          },
          "execution_count": 6,
          "metadata": {},
          "output_type": "execute_result"
        }
      ],
      "source": [
        "df.drop(['class'], axis=1).describe()"
      ]
    },
    {
      "cell_type": "markdown",
      "metadata": {
        "id": "6zbVZ1pDD9b0"
      },
      "source": [
        "4. Untuk tabel di atas, baris menandakan jenis statistik, kolom menandakan fitur data. Baris max menandakan nilai maksimum, min menandakan nilai minimum, std menandakan standar deviasi, mean menandakan nilai rata-rata, 50% menandakan persentil ke-50 (median)"
      ]
    },
    {
      "cell_type": "markdown",
      "metadata": {
        "id": "VE1l_gOTwHuz"
      },
      "source": [
        "## I.2\n",
        "Carilah:\n",
        "1. Missing values dari tiap fitur\n",
        "2. Outliers dari tiap fitur (gunakan metode yang kalian ketahui)"
      ]
    },
    {
      "cell_type": "code",
      "execution_count": 7,
      "metadata": {
        "colab": {
          "base_uri": "https://localhost:8080/"
        },
        "id": "IGe-YWAvwQDr",
        "outputId": "65f61582-34b1-4c79-ca65-b3bd807a208d"
      },
      "outputs": [
        {
          "name": "stdout",
          "output_type": "stream",
          "text": [
            "<class 'pandas.core.frame.DataFrame'>\n",
            "RangeIndex: 1372 entries, 0 to 1371\n",
            "Data columns (total 5 columns):\n",
            " #   Column    Non-Null Count  Dtype  \n",
            "---  ------    --------------  -----  \n",
            " 0   variance  1372 non-null   float64\n",
            " 1   skewness  1372 non-null   float64\n",
            " 2   curtosis  1372 non-null   float64\n",
            " 3   entropy   1372 non-null   float64\n",
            " 4   class     1372 non-null   int64  \n",
            "dtypes: float64(4), int64(1)\n",
            "memory usage: 53.7 KB\n"
          ]
        }
      ],
      "source": [
        "# I.2 Put your code here\n",
        "df.info()"
      ]
    },
    {
      "cell_type": "markdown",
      "metadata": {
        "id": "PzMY7uucFNxl"
      },
      "source": [
        "1. Seluruh kolom tidak memiliki missing values."
      ]
    },
    {
      "cell_type": "code",
      "execution_count": 8,
      "metadata": {
        "id": "zCzRU8lVFQ8i"
      },
      "outputs": [
        {
          "name": "stdout",
          "output_type": "stream",
          "text": [
            "Upper bound = 9.7131875\n",
            "Lower bound = -8.6647125\n"
          ]
        },
        {
          "data": {
            "text/html": [
              "<div>\n",
              "<style scoped>\n",
              "    .dataframe tbody tr th:only-of-type {\n",
              "        vertical-align: middle;\n",
              "    }\n",
              "\n",
              "    .dataframe tbody tr th {\n",
              "        vertical-align: top;\n",
              "    }\n",
              "\n",
              "    .dataframe thead th {\n",
              "        text-align: right;\n",
              "    }\n",
              "</style>\n",
              "<table border=\"1\" class=\"dataframe\">\n",
              "  <thead>\n",
              "    <tr style=\"text-align: right;\">\n",
              "      <th></th>\n",
              "      <th>variance</th>\n",
              "      <th>skewness</th>\n",
              "      <th>curtosis</th>\n",
              "      <th>entropy</th>\n",
              "      <th>class</th>\n",
              "    </tr>\n",
              "  </thead>\n",
              "  <tbody>\n",
              "  </tbody>\n",
              "</table>\n",
              "</div>"
            ],
            "text/plain": [
              "Empty DataFrame\n",
              "Columns: [variance, skewness, curtosis, entropy, class]\n",
              "Index: []"
            ]
          },
          "execution_count": 8,
          "metadata": {},
          "output_type": "execute_result"
        }
      ],
      "source": [
        "# variance\n",
        "q1_variance = df['variance'].quantile(0.25)\n",
        "q3_variance = df['variance'].quantile(0.75)\n",
        "iqr_variance = q3_variance - q1_variance\n",
        "upper_bound_variance = q3_variance + 1.5 * iqr_variance\n",
        "lower_bound_variance = q1_variance - 1.5 * iqr_variance\n",
        "print(f\"Upper bound = {upper_bound_variance}\")\n",
        "print(f\"Lower bound = {lower_bound_variance}\")\n",
        "\n",
        "df[(df['variance'] < lower_bound_variance) | (df['variance'] > upper_bound_variance)]"
      ]
    },
    {
      "cell_type": "code",
      "execution_count": 9,
      "metadata": {
        "id": "qlAhS4OZHrak"
      },
      "outputs": [
        {
          "name": "stdout",
          "output_type": "stream",
          "text": [
            "Upper bound = 19.5988625\n",
            "Lower bound = -14.4924375\n"
          ]
        },
        {
          "data": {
            "text/html": [
              "<div>\n",
              "<style scoped>\n",
              "    .dataframe tbody tr th:only-of-type {\n",
              "        vertical-align: middle;\n",
              "    }\n",
              "\n",
              "    .dataframe tbody tr th {\n",
              "        vertical-align: top;\n",
              "    }\n",
              "\n",
              "    .dataframe thead th {\n",
              "        text-align: right;\n",
              "    }\n",
              "</style>\n",
              "<table border=\"1\" class=\"dataframe\">\n",
              "  <thead>\n",
              "    <tr style=\"text-align: right;\">\n",
              "      <th></th>\n",
              "      <th>variance</th>\n",
              "      <th>skewness</th>\n",
              "      <th>curtosis</th>\n",
              "      <th>entropy</th>\n",
              "      <th>class</th>\n",
              "    </tr>\n",
              "  </thead>\n",
              "  <tbody>\n",
              "  </tbody>\n",
              "</table>\n",
              "</div>"
            ],
            "text/plain": [
              "Empty DataFrame\n",
              "Columns: [variance, skewness, curtosis, entropy, class]\n",
              "Index: []"
            ]
          },
          "execution_count": 9,
          "metadata": {},
          "output_type": "execute_result"
        }
      ],
      "source": [
        "# skewness\n",
        "q1_skewness = df['skewness'].quantile(0.25)\n",
        "q3_skewness = df['skewness'].quantile(0.75)\n",
        "iqr_skewness = q3_skewness - q1_skewness\n",
        "upper_bound_skewness = q3_skewness + 1.5 * iqr_skewness\n",
        "lower_bound_skewness = q1_skewness - 1.5 * iqr_skewness\n",
        "print(f\"Upper bound = {upper_bound_skewness}\")\n",
        "print(f\"Lower bound = {lower_bound_skewness}\")\n",
        "\n",
        "df[(df['skewness'] < lower_bound_skewness) | (df['skewness'] > upper_bound_skewness)]"
      ]
    },
    {
      "cell_type": "code",
      "execution_count": 10,
      "metadata": {
        "id": "e268mH8AHrw4"
      },
      "outputs": [
        {
          "name": "stdout",
          "output_type": "stream",
          "text": [
            "Upper bound = 10.3105875\n",
            "Lower bound = -8.7063125\n"
          ]
        },
        {
          "data": {
            "text/html": [
              "<div>\n",
              "<style scoped>\n",
              "    .dataframe tbody tr th:only-of-type {\n",
              "        vertical-align: middle;\n",
              "    }\n",
              "\n",
              "    .dataframe tbody tr th {\n",
              "        vertical-align: top;\n",
              "    }\n",
              "\n",
              "    .dataframe thead th {\n",
              "        text-align: right;\n",
              "    }\n",
              "</style>\n",
              "<table border=\"1\" class=\"dataframe\">\n",
              "  <thead>\n",
              "    <tr style=\"text-align: right;\">\n",
              "      <th></th>\n",
              "      <th>variance</th>\n",
              "      <th>skewness</th>\n",
              "      <th>curtosis</th>\n",
              "      <th>entropy</th>\n",
              "      <th>class</th>\n",
              "    </tr>\n",
              "  </thead>\n",
              "  <tbody>\n",
              "    <tr>\n",
              "      <th>765</th>\n",
              "      <td>-3.8483</td>\n",
              "      <td>-12.8047</td>\n",
              "      <td>15.6824</td>\n",
              "      <td>-1.281000</td>\n",
              "      <td>1</td>\n",
              "    </tr>\n",
              "    <tr>\n",
              "      <th>780</th>\n",
              "      <td>-3.5801</td>\n",
              "      <td>-12.9309</td>\n",
              "      <td>13.1779</td>\n",
              "      <td>-2.567700</td>\n",
              "      <td>1</td>\n",
              "    </tr>\n",
              "    <tr>\n",
              "      <th>815</th>\n",
              "      <td>-3.1128</td>\n",
              "      <td>-6.8410</td>\n",
              "      <td>10.7402</td>\n",
              "      <td>-1.017200</td>\n",
              "      <td>1</td>\n",
              "    </tr>\n",
              "    <tr>\n",
              "      <th>816</th>\n",
              "      <td>-4.8554</td>\n",
              "      <td>-5.9037</td>\n",
              "      <td>10.9818</td>\n",
              "      <td>-0.821990</td>\n",
              "      <td>1</td>\n",
              "    </tr>\n",
              "    <tr>\n",
              "      <th>820</th>\n",
              "      <td>-4.0025</td>\n",
              "      <td>-13.4979</td>\n",
              "      <td>17.6772</td>\n",
              "      <td>-3.320200</td>\n",
              "      <td>1</td>\n",
              "    </tr>\n",
              "    <tr>\n",
              "      <th>821</th>\n",
              "      <td>-4.0173</td>\n",
              "      <td>-8.3123</td>\n",
              "      <td>12.4547</td>\n",
              "      <td>-1.437500</td>\n",
              "      <td>1</td>\n",
              "    </tr>\n",
              "    <tr>\n",
              "      <th>826</th>\n",
              "      <td>-4.2110</td>\n",
              "      <td>-12.4736</td>\n",
              "      <td>14.9704</td>\n",
              "      <td>-1.388400</td>\n",
              "      <td>1</td>\n",
              "    </tr>\n",
              "    <tr>\n",
              "      <th>841</th>\n",
              "      <td>-3.8858</td>\n",
              "      <td>-12.8461</td>\n",
              "      <td>12.7957</td>\n",
              "      <td>-3.135300</td>\n",
              "      <td>1</td>\n",
              "    </tr>\n",
              "    <tr>\n",
              "      <th>877</th>\n",
              "      <td>-5.1216</td>\n",
              "      <td>-5.3118</td>\n",
              "      <td>10.3846</td>\n",
              "      <td>-1.061200</td>\n",
              "      <td>1</td>\n",
              "    </tr>\n",
              "    <tr>\n",
              "      <th>881</th>\n",
              "      <td>-4.4861</td>\n",
              "      <td>-13.2889</td>\n",
              "      <td>17.3087</td>\n",
              "      <td>-3.219400</td>\n",
              "      <td>1</td>\n",
              "    </tr>\n",
              "    <tr>\n",
              "      <th>882</th>\n",
              "      <td>-4.3876</td>\n",
              "      <td>-7.7267</td>\n",
              "      <td>11.9655</td>\n",
              "      <td>-1.454300</td>\n",
              "      <td>1</td>\n",
              "    </tr>\n",
              "    <tr>\n",
              "      <th>887</th>\n",
              "      <td>-3.2692</td>\n",
              "      <td>-12.7406</td>\n",
              "      <td>15.5573</td>\n",
              "      <td>-0.141820</td>\n",
              "      <td>1</td>\n",
              "    </tr>\n",
              "    <tr>\n",
              "      <th>902</th>\n",
              "      <td>-2.8957</td>\n",
              "      <td>-12.0205</td>\n",
              "      <td>11.9149</td>\n",
              "      <td>-2.755200</td>\n",
              "      <td>1</td>\n",
              "    </tr>\n",
              "    <tr>\n",
              "      <th>937</th>\n",
              "      <td>-2.9020</td>\n",
              "      <td>-7.6563</td>\n",
              "      <td>11.8318</td>\n",
              "      <td>-0.842680</td>\n",
              "      <td>1</td>\n",
              "    </tr>\n",
              "    <tr>\n",
              "      <th>938</th>\n",
              "      <td>-4.3773</td>\n",
              "      <td>-5.5167</td>\n",
              "      <td>10.9390</td>\n",
              "      <td>-0.408200</td>\n",
              "      <td>1</td>\n",
              "    </tr>\n",
              "    <tr>\n",
              "      <th>942</th>\n",
              "      <td>-3.3793</td>\n",
              "      <td>-13.7731</td>\n",
              "      <td>17.9274</td>\n",
              "      <td>-2.032300</td>\n",
              "      <td>1</td>\n",
              "    </tr>\n",
              "    <tr>\n",
              "      <th>943</th>\n",
              "      <td>-3.1273</td>\n",
              "      <td>-7.1121</td>\n",
              "      <td>11.3897</td>\n",
              "      <td>-0.083634</td>\n",
              "      <td>1</td>\n",
              "    </tr>\n",
              "    <tr>\n",
              "      <th>948</th>\n",
              "      <td>-3.4917</td>\n",
              "      <td>-12.1736</td>\n",
              "      <td>14.3689</td>\n",
              "      <td>-0.616390</td>\n",
              "      <td>1</td>\n",
              "    </tr>\n",
              "    <tr>\n",
              "      <th>949</th>\n",
              "      <td>-3.1158</td>\n",
              "      <td>-8.6289</td>\n",
              "      <td>10.4403</td>\n",
              "      <td>0.971530</td>\n",
              "      <td>1</td>\n",
              "    </tr>\n",
              "    <tr>\n",
              "      <th>963</th>\n",
              "      <td>-3.3863</td>\n",
              "      <td>-12.9889</td>\n",
              "      <td>13.0545</td>\n",
              "      <td>-2.720200</td>\n",
              "      <td>1</td>\n",
              "    </tr>\n",
              "    <tr>\n",
              "      <th>998</th>\n",
              "      <td>-3.0866</td>\n",
              "      <td>-6.6362</td>\n",
              "      <td>10.5405</td>\n",
              "      <td>-0.891820</td>\n",
              "      <td>1</td>\n",
              "    </tr>\n",
              "    <tr>\n",
              "      <th>999</th>\n",
              "      <td>-4.7331</td>\n",
              "      <td>-6.1789</td>\n",
              "      <td>11.3880</td>\n",
              "      <td>-1.074100</td>\n",
              "      <td>1</td>\n",
              "    </tr>\n",
              "    <tr>\n",
              "      <th>1003</th>\n",
              "      <td>-3.8203</td>\n",
              "      <td>-13.0551</td>\n",
              "      <td>16.9583</td>\n",
              "      <td>-2.305200</td>\n",
              "      <td>1</td>\n",
              "    </tr>\n",
              "    <tr>\n",
              "      <th>1004</th>\n",
              "      <td>-3.7181</td>\n",
              "      <td>-8.5089</td>\n",
              "      <td>12.3630</td>\n",
              "      <td>-0.955180</td>\n",
              "      <td>1</td>\n",
              "    </tr>\n",
              "    <tr>\n",
              "      <th>1009</th>\n",
              "      <td>-3.5713</td>\n",
              "      <td>-12.4922</td>\n",
              "      <td>14.8881</td>\n",
              "      <td>-0.470270</td>\n",
              "      <td>1</td>\n",
              "    </tr>\n",
              "    <tr>\n",
              "      <th>1024</th>\n",
              "      <td>-3.0061</td>\n",
              "      <td>-12.2377</td>\n",
              "      <td>11.9552</td>\n",
              "      <td>-2.160300</td>\n",
              "      <td>1</td>\n",
              "    </tr>\n",
              "    <tr>\n",
              "      <th>1059</th>\n",
              "      <td>-3.2305</td>\n",
              "      <td>-7.2135</td>\n",
              "      <td>11.6433</td>\n",
              "      <td>-0.946130</td>\n",
              "      <td>1</td>\n",
              "    </tr>\n",
              "    <tr>\n",
              "      <th>1060</th>\n",
              "      <td>-4.8426</td>\n",
              "      <td>-4.9932</td>\n",
              "      <td>10.4052</td>\n",
              "      <td>-0.531040</td>\n",
              "      <td>1</td>\n",
              "    </tr>\n",
              "    <tr>\n",
              "      <th>1064</th>\n",
              "      <td>-3.6961</td>\n",
              "      <td>-13.6779</td>\n",
              "      <td>17.5795</td>\n",
              "      <td>-2.618100</td>\n",
              "      <td>1</td>\n",
              "    </tr>\n",
              "    <tr>\n",
              "      <th>1065</th>\n",
              "      <td>-3.6012</td>\n",
              "      <td>-6.5389</td>\n",
              "      <td>10.5234</td>\n",
              "      <td>-0.489670</td>\n",
              "      <td>1</td>\n",
              "    </tr>\n",
              "    <tr>\n",
              "      <th>1070</th>\n",
              "      <td>-3.1423</td>\n",
              "      <td>-13.0365</td>\n",
              "      <td>15.6773</td>\n",
              "      <td>-0.661650</td>\n",
              "      <td>1</td>\n",
              "    </tr>\n",
              "    <tr>\n",
              "      <th>1085</th>\n",
              "      <td>-2.6649</td>\n",
              "      <td>-12.8130</td>\n",
              "      <td>12.6689</td>\n",
              "      <td>-1.908200</td>\n",
              "      <td>1</td>\n",
              "    </tr>\n",
              "    <tr>\n",
              "      <th>1120</th>\n",
              "      <td>-3.1875</td>\n",
              "      <td>-7.5756</td>\n",
              "      <td>11.8678</td>\n",
              "      <td>-0.578890</td>\n",
              "      <td>1</td>\n",
              "    </tr>\n",
              "    <tr>\n",
              "      <th>1121</th>\n",
              "      <td>-4.6765</td>\n",
              "      <td>-5.6636</td>\n",
              "      <td>10.9690</td>\n",
              "      <td>-0.334490</td>\n",
              "      <td>1</td>\n",
              "    </tr>\n",
              "    <tr>\n",
              "      <th>1125</th>\n",
              "      <td>-3.5985</td>\n",
              "      <td>-13.6593</td>\n",
              "      <td>17.6052</td>\n",
              "      <td>-2.492700</td>\n",
              "      <td>1</td>\n",
              "    </tr>\n",
              "    <tr>\n",
              "      <th>1126</th>\n",
              "      <td>-3.3582</td>\n",
              "      <td>-7.2404</td>\n",
              "      <td>11.4419</td>\n",
              "      <td>-0.571130</td>\n",
              "      <td>1</td>\n",
              "    </tr>\n",
              "    <tr>\n",
              "      <th>1131</th>\n",
              "      <td>-4.0214</td>\n",
              "      <td>-12.8006</td>\n",
              "      <td>15.6199</td>\n",
              "      <td>-0.956470</td>\n",
              "      <td>1</td>\n",
              "    </tr>\n",
              "    <tr>\n",
              "      <th>1132</th>\n",
              "      <td>-3.3884</td>\n",
              "      <td>-8.2150</td>\n",
              "      <td>10.3315</td>\n",
              "      <td>0.981870</td>\n",
              "      <td>1</td>\n",
              "    </tr>\n",
              "    <tr>\n",
              "      <th>1146</th>\n",
              "      <td>-3.7300</td>\n",
              "      <td>-12.9723</td>\n",
              "      <td>12.9817</td>\n",
              "      <td>-2.684000</td>\n",
              "      <td>1</td>\n",
              "    </tr>\n",
              "    <tr>\n",
              "      <th>1181</th>\n",
              "      <td>-3.5895</td>\n",
              "      <td>-6.5720</td>\n",
              "      <td>10.5251</td>\n",
              "      <td>-0.163810</td>\n",
              "      <td>1</td>\n",
              "    </tr>\n",
              "    <tr>\n",
              "      <th>1182</th>\n",
              "      <td>-5.0477</td>\n",
              "      <td>-5.8023</td>\n",
              "      <td>11.2440</td>\n",
              "      <td>-0.390100</td>\n",
              "      <td>1</td>\n",
              "    </tr>\n",
              "    <tr>\n",
              "      <th>1186</th>\n",
              "      <td>-4.2440</td>\n",
              "      <td>-13.0634</td>\n",
              "      <td>17.1116</td>\n",
              "      <td>-2.801700</td>\n",
              "      <td>1</td>\n",
              "    </tr>\n",
              "    <tr>\n",
              "      <th>1187</th>\n",
              "      <td>-4.0218</td>\n",
              "      <td>-8.3040</td>\n",
              "      <td>12.5550</td>\n",
              "      <td>-1.509900</td>\n",
              "      <td>1</td>\n",
              "    </tr>\n",
              "    <tr>\n",
              "      <th>1192</th>\n",
              "      <td>-4.4018</td>\n",
              "      <td>-12.9371</td>\n",
              "      <td>15.6559</td>\n",
              "      <td>-1.680600</td>\n",
              "      <td>1</td>\n",
              "    </tr>\n",
              "    <tr>\n",
              "      <th>1207</th>\n",
              "      <td>-3.7930</td>\n",
              "      <td>-12.7095</td>\n",
              "      <td>12.7957</td>\n",
              "      <td>-2.825000</td>\n",
              "      <td>1</td>\n",
              "    </tr>\n",
              "    <tr>\n",
              "      <th>1243</th>\n",
              "      <td>-5.0676</td>\n",
              "      <td>-5.1877</td>\n",
              "      <td>10.4266</td>\n",
              "      <td>-0.867250</td>\n",
              "      <td>1</td>\n",
              "    </tr>\n",
              "    <tr>\n",
              "      <th>1247</th>\n",
              "      <td>-4.4775</td>\n",
              "      <td>-13.0303</td>\n",
              "      <td>17.0834</td>\n",
              "      <td>-3.034500</td>\n",
              "      <td>1</td>\n",
              "    </tr>\n",
              "    <tr>\n",
              "      <th>1248</th>\n",
              "      <td>-4.1958</td>\n",
              "      <td>-8.1819</td>\n",
              "      <td>12.1291</td>\n",
              "      <td>-1.601700</td>\n",
              "      <td>1</td>\n",
              "    </tr>\n",
              "    <tr>\n",
              "      <th>1253</th>\n",
              "      <td>-4.5531</td>\n",
              "      <td>-12.5854</td>\n",
              "      <td>15.4417</td>\n",
              "      <td>-1.498300</td>\n",
              "      <td>1</td>\n",
              "    </tr>\n",
              "    <tr>\n",
              "      <th>1268</th>\n",
              "      <td>-3.9411</td>\n",
              "      <td>-12.8792</td>\n",
              "      <td>13.0597</td>\n",
              "      <td>-3.312500</td>\n",
              "      <td>1</td>\n",
              "    </tr>\n",
              "    <tr>\n",
              "      <th>1304</th>\n",
              "      <td>-5.2943</td>\n",
              "      <td>-5.1463</td>\n",
              "      <td>10.3332</td>\n",
              "      <td>-1.118100</td>\n",
              "      <td>1</td>\n",
              "    </tr>\n",
              "    <tr>\n",
              "      <th>1308</th>\n",
              "      <td>-4.6338</td>\n",
              "      <td>-12.7509</td>\n",
              "      <td>16.7166</td>\n",
              "      <td>-3.216800</td>\n",
              "      <td>1</td>\n",
              "    </tr>\n",
              "    <tr>\n",
              "      <th>1309</th>\n",
              "      <td>-4.2887</td>\n",
              "      <td>-7.8633</td>\n",
              "      <td>11.8387</td>\n",
              "      <td>-1.897800</td>\n",
              "      <td>1</td>\n",
              "    </tr>\n",
              "    <tr>\n",
              "      <th>1314</th>\n",
              "      <td>-3.5060</td>\n",
              "      <td>-12.5667</td>\n",
              "      <td>15.1606</td>\n",
              "      <td>-0.752160</td>\n",
              "      <td>1</td>\n",
              "    </tr>\n",
              "    <tr>\n",
              "      <th>1329</th>\n",
              "      <td>-2.9672</td>\n",
              "      <td>-13.2869</td>\n",
              "      <td>13.4727</td>\n",
              "      <td>-2.627100</td>\n",
              "      <td>1</td>\n",
              "    </tr>\n",
              "    <tr>\n",
              "      <th>1364</th>\n",
              "      <td>-2.8391</td>\n",
              "      <td>-6.6300</td>\n",
              "      <td>10.4849</td>\n",
              "      <td>-0.421130</td>\n",
              "      <td>1</td>\n",
              "    </tr>\n",
              "    <tr>\n",
              "      <th>1365</th>\n",
              "      <td>-4.5046</td>\n",
              "      <td>-5.8126</td>\n",
              "      <td>10.8867</td>\n",
              "      <td>-0.528460</td>\n",
              "      <td>1</td>\n",
              "    </tr>\n",
              "    <tr>\n",
              "      <th>1369</th>\n",
              "      <td>-3.7503</td>\n",
              "      <td>-13.4586</td>\n",
              "      <td>17.5932</td>\n",
              "      <td>-2.777100</td>\n",
              "      <td>1</td>\n",
              "    </tr>\n",
              "    <tr>\n",
              "      <th>1370</th>\n",
              "      <td>-3.5637</td>\n",
              "      <td>-8.3827</td>\n",
              "      <td>12.3930</td>\n",
              "      <td>-1.282300</td>\n",
              "      <td>1</td>\n",
              "    </tr>\n",
              "  </tbody>\n",
              "</table>\n",
              "</div>"
            ],
            "text/plain": [
              "      variance  skewness  curtosis   entropy  class\n",
              "765    -3.8483  -12.8047   15.6824 -1.281000      1\n",
              "780    -3.5801  -12.9309   13.1779 -2.567700      1\n",
              "815    -3.1128   -6.8410   10.7402 -1.017200      1\n",
              "816    -4.8554   -5.9037   10.9818 -0.821990      1\n",
              "820    -4.0025  -13.4979   17.6772 -3.320200      1\n",
              "821    -4.0173   -8.3123   12.4547 -1.437500      1\n",
              "826    -4.2110  -12.4736   14.9704 -1.388400      1\n",
              "841    -3.8858  -12.8461   12.7957 -3.135300      1\n",
              "877    -5.1216   -5.3118   10.3846 -1.061200      1\n",
              "881    -4.4861  -13.2889   17.3087 -3.219400      1\n",
              "882    -4.3876   -7.7267   11.9655 -1.454300      1\n",
              "887    -3.2692  -12.7406   15.5573 -0.141820      1\n",
              "902    -2.8957  -12.0205   11.9149 -2.755200      1\n",
              "937    -2.9020   -7.6563   11.8318 -0.842680      1\n",
              "938    -4.3773   -5.5167   10.9390 -0.408200      1\n",
              "942    -3.3793  -13.7731   17.9274 -2.032300      1\n",
              "943    -3.1273   -7.1121   11.3897 -0.083634      1\n",
              "948    -3.4917  -12.1736   14.3689 -0.616390      1\n",
              "949    -3.1158   -8.6289   10.4403  0.971530      1\n",
              "963    -3.3863  -12.9889   13.0545 -2.720200      1\n",
              "998    -3.0866   -6.6362   10.5405 -0.891820      1\n",
              "999    -4.7331   -6.1789   11.3880 -1.074100      1\n",
              "1003   -3.8203  -13.0551   16.9583 -2.305200      1\n",
              "1004   -3.7181   -8.5089   12.3630 -0.955180      1\n",
              "1009   -3.5713  -12.4922   14.8881 -0.470270      1\n",
              "1024   -3.0061  -12.2377   11.9552 -2.160300      1\n",
              "1059   -3.2305   -7.2135   11.6433 -0.946130      1\n",
              "1060   -4.8426   -4.9932   10.4052 -0.531040      1\n",
              "1064   -3.6961  -13.6779   17.5795 -2.618100      1\n",
              "1065   -3.6012   -6.5389   10.5234 -0.489670      1\n",
              "1070   -3.1423  -13.0365   15.6773 -0.661650      1\n",
              "1085   -2.6649  -12.8130   12.6689 -1.908200      1\n",
              "1120   -3.1875   -7.5756   11.8678 -0.578890      1\n",
              "1121   -4.6765   -5.6636   10.9690 -0.334490      1\n",
              "1125   -3.5985  -13.6593   17.6052 -2.492700      1\n",
              "1126   -3.3582   -7.2404   11.4419 -0.571130      1\n",
              "1131   -4.0214  -12.8006   15.6199 -0.956470      1\n",
              "1132   -3.3884   -8.2150   10.3315  0.981870      1\n",
              "1146   -3.7300  -12.9723   12.9817 -2.684000      1\n",
              "1181   -3.5895   -6.5720   10.5251 -0.163810      1\n",
              "1182   -5.0477   -5.8023   11.2440 -0.390100      1\n",
              "1186   -4.2440  -13.0634   17.1116 -2.801700      1\n",
              "1187   -4.0218   -8.3040   12.5550 -1.509900      1\n",
              "1192   -4.4018  -12.9371   15.6559 -1.680600      1\n",
              "1207   -3.7930  -12.7095   12.7957 -2.825000      1\n",
              "1243   -5.0676   -5.1877   10.4266 -0.867250      1\n",
              "1247   -4.4775  -13.0303   17.0834 -3.034500      1\n",
              "1248   -4.1958   -8.1819   12.1291 -1.601700      1\n",
              "1253   -4.5531  -12.5854   15.4417 -1.498300      1\n",
              "1268   -3.9411  -12.8792   13.0597 -3.312500      1\n",
              "1304   -5.2943   -5.1463   10.3332 -1.118100      1\n",
              "1308   -4.6338  -12.7509   16.7166 -3.216800      1\n",
              "1309   -4.2887   -7.8633   11.8387 -1.897800      1\n",
              "1314   -3.5060  -12.5667   15.1606 -0.752160      1\n",
              "1329   -2.9672  -13.2869   13.4727 -2.627100      1\n",
              "1364   -2.8391   -6.6300   10.4849 -0.421130      1\n",
              "1365   -4.5046   -5.8126   10.8867 -0.528460      1\n",
              "1369   -3.7503  -13.4586   17.5932 -2.777100      1\n",
              "1370   -3.5637   -8.3827   12.3930 -1.282300      1"
            ]
          },
          "execution_count": 10,
          "metadata": {},
          "output_type": "execute_result"
        }
      ],
      "source": [
        "# curtosis\n",
        "q1_curtosis = df['curtosis'].quantile(0.25)\n",
        "q3_curtosis = df['curtosis'].quantile(0.75)\n",
        "iqr_curtosis = q3_curtosis - q1_curtosis\n",
        "upper_bound_curtosis = q3_curtosis + 1.5 * iqr_curtosis\n",
        "lower_bound_curtosis = q1_curtosis - 1.5 * iqr_curtosis\n",
        "print(f\"Upper bound = {upper_bound_curtosis}\")\n",
        "print(f\"Lower bound = {lower_bound_curtosis}\")\n",
        "\n",
        "df[(df['curtosis'] < lower_bound_curtosis) | (df['curtosis'] > upper_bound_curtosis)]"
      ]
    },
    {
      "cell_type": "code",
      "execution_count": 11,
      "metadata": {
        "id": "sX4o96dlHsJ-"
      },
      "outputs": [
        {
          "name": "stdout",
          "output_type": "stream",
          "text": [
            "Upper bound = 4.6072\n",
            "Lower bound = -6.62584\n"
          ]
        },
        {
          "data": {
            "text/html": [
              "<div>\n",
              "<style scoped>\n",
              "    .dataframe tbody tr th:only-of-type {\n",
              "        vertical-align: middle;\n",
              "    }\n",
              "\n",
              "    .dataframe tbody tr th {\n",
              "        vertical-align: top;\n",
              "    }\n",
              "\n",
              "    .dataframe thead th {\n",
              "        text-align: right;\n",
              "    }\n",
              "</style>\n",
              "<table border=\"1\" class=\"dataframe\">\n",
              "  <thead>\n",
              "    <tr style=\"text-align: right;\">\n",
              "      <th></th>\n",
              "      <th>variance</th>\n",
              "      <th>skewness</th>\n",
              "      <th>curtosis</th>\n",
              "      <th>entropy</th>\n",
              "      <th>class</th>\n",
              "    </tr>\n",
              "  </thead>\n",
              "  <tbody>\n",
              "    <tr>\n",
              "      <th>41</th>\n",
              "      <td>-0.20620</td>\n",
              "      <td>9.2207</td>\n",
              "      <td>-3.704400</td>\n",
              "      <td>-6.8103</td>\n",
              "      <td>0</td>\n",
              "    </tr>\n",
              "    <tr>\n",
              "      <th>45</th>\n",
              "      <td>-0.78690</td>\n",
              "      <td>9.5663</td>\n",
              "      <td>-3.786700</td>\n",
              "      <td>-7.5034</td>\n",
              "      <td>0</td>\n",
              "    </tr>\n",
              "    <tr>\n",
              "      <th>47</th>\n",
              "      <td>-0.78690</td>\n",
              "      <td>9.5663</td>\n",
              "      <td>-3.786700</td>\n",
              "      <td>-7.5034</td>\n",
              "      <td>0</td>\n",
              "    </tr>\n",
              "    <tr>\n",
              "      <th>59</th>\n",
              "      <td>-0.78289</td>\n",
              "      <td>11.3603</td>\n",
              "      <td>-0.376440</td>\n",
              "      <td>-7.0495</td>\n",
              "      <td>0</td>\n",
              "    </tr>\n",
              "    <tr>\n",
              "      <th>139</th>\n",
              "      <td>-0.20620</td>\n",
              "      <td>9.2207</td>\n",
              "      <td>-3.704400</td>\n",
              "      <td>-6.8103</td>\n",
              "      <td>0</td>\n",
              "    </tr>\n",
              "    <tr>\n",
              "      <th>194</th>\n",
              "      <td>-2.34100</td>\n",
              "      <td>12.3784</td>\n",
              "      <td>0.704030</td>\n",
              "      <td>-7.5836</td>\n",
              "      <td>0</td>\n",
              "    </tr>\n",
              "    <tr>\n",
              "      <th>202</th>\n",
              "      <td>-0.78689</td>\n",
              "      <td>9.5663</td>\n",
              "      <td>-3.786700</td>\n",
              "      <td>-7.5034</td>\n",
              "      <td>0</td>\n",
              "    </tr>\n",
              "    <tr>\n",
              "      <th>291</th>\n",
              "      <td>-2.21530</td>\n",
              "      <td>11.9625</td>\n",
              "      <td>0.078538</td>\n",
              "      <td>-7.7853</td>\n",
              "      <td>0</td>\n",
              "    </tr>\n",
              "    <tr>\n",
              "      <th>341</th>\n",
              "      <td>-1.18040</td>\n",
              "      <td>11.5093</td>\n",
              "      <td>0.155650</td>\n",
              "      <td>-6.8194</td>\n",
              "      <td>0</td>\n",
              "    </tr>\n",
              "    <tr>\n",
              "      <th>394</th>\n",
              "      <td>-2.26230</td>\n",
              "      <td>12.1177</td>\n",
              "      <td>0.288460</td>\n",
              "      <td>-7.7581</td>\n",
              "      <td>0</td>\n",
              "    </tr>\n",
              "    <tr>\n",
              "      <th>465</th>\n",
              "      <td>-2.69890</td>\n",
              "      <td>12.1984</td>\n",
              "      <td>0.676610</td>\n",
              "      <td>-8.5482</td>\n",
              "      <td>0</td>\n",
              "    </tr>\n",
              "    <tr>\n",
              "      <th>529</th>\n",
              "      <td>-1.38850</td>\n",
              "      <td>12.5026</td>\n",
              "      <td>0.691180</td>\n",
              "      <td>-7.5487</td>\n",
              "      <td>0</td>\n",
              "    </tr>\n",
              "    <tr>\n",
              "      <th>543</th>\n",
              "      <td>-1.42170</td>\n",
              "      <td>11.6542</td>\n",
              "      <td>-0.057699</td>\n",
              "      <td>-7.1025</td>\n",
              "      <td>0</td>\n",
              "    </tr>\n",
              "    <tr>\n",
              "      <th>562</th>\n",
              "      <td>-2.46040</td>\n",
              "      <td>12.7302</td>\n",
              "      <td>0.917380</td>\n",
              "      <td>-7.6418</td>\n",
              "      <td>0</td>\n",
              "    </tr>\n",
              "    <tr>\n",
              "      <th>581</th>\n",
              "      <td>-1.96670</td>\n",
              "      <td>11.8052</td>\n",
              "      <td>-0.404720</td>\n",
              "      <td>-7.8719</td>\n",
              "      <td>0</td>\n",
              "    </tr>\n",
              "    <tr>\n",
              "      <th>606</th>\n",
              "      <td>-1.42750</td>\n",
              "      <td>11.8797</td>\n",
              "      <td>0.416130</td>\n",
              "      <td>-6.9978</td>\n",
              "      <td>0</td>\n",
              "    </tr>\n",
              "    <tr>\n",
              "      <th>615</th>\n",
              "      <td>-0.20620</td>\n",
              "      <td>9.2207</td>\n",
              "      <td>-3.704400</td>\n",
              "      <td>-6.8103</td>\n",
              "      <td>0</td>\n",
              "    </tr>\n",
              "    <tr>\n",
              "      <th>740</th>\n",
              "      <td>-2.44730</td>\n",
              "      <td>12.6247</td>\n",
              "      <td>0.735730</td>\n",
              "      <td>-7.6612</td>\n",
              "      <td>0</td>\n",
              "    </tr>\n",
              "    <tr>\n",
              "      <th>776</th>\n",
              "      <td>-5.90340</td>\n",
              "      <td>6.5679</td>\n",
              "      <td>0.676610</td>\n",
              "      <td>-6.6797</td>\n",
              "      <td>1</td>\n",
              "    </tr>\n",
              "    <tr>\n",
              "      <th>791</th>\n",
              "      <td>-4.47790</td>\n",
              "      <td>7.3708</td>\n",
              "      <td>-0.312180</td>\n",
              "      <td>-6.7754</td>\n",
              "      <td>1</td>\n",
              "    </tr>\n",
              "    <tr>\n",
              "      <th>837</th>\n",
              "      <td>-6.28150</td>\n",
              "      <td>6.6651</td>\n",
              "      <td>0.525810</td>\n",
              "      <td>-7.0107</td>\n",
              "      <td>1</td>\n",
              "    </tr>\n",
              "    <tr>\n",
              "      <th>852</th>\n",
              "      <td>-4.88610</td>\n",
              "      <td>7.0542</td>\n",
              "      <td>-0.172520</td>\n",
              "      <td>-6.9590</td>\n",
              "      <td>1</td>\n",
              "    </tr>\n",
              "    <tr>\n",
              "      <th>898</th>\n",
              "      <td>-5.24060</td>\n",
              "      <td>6.6258</td>\n",
              "      <td>-0.199080</td>\n",
              "      <td>-6.8607</td>\n",
              "      <td>1</td>\n",
              "    </tr>\n",
              "    <tr>\n",
              "      <th>974</th>\n",
              "      <td>-5.03010</td>\n",
              "      <td>7.5032</td>\n",
              "      <td>-0.133960</td>\n",
              "      <td>-7.5034</td>\n",
              "      <td>1</td>\n",
              "    </tr>\n",
              "    <tr>\n",
              "      <th>1142</th>\n",
              "      <td>-6.57730</td>\n",
              "      <td>6.8017</td>\n",
              "      <td>0.854830</td>\n",
              "      <td>-7.5344</td>\n",
              "      <td>1</td>\n",
              "    </tr>\n",
              "    <tr>\n",
              "      <th>1157</th>\n",
              "      <td>-5.20490</td>\n",
              "      <td>7.2590</td>\n",
              "      <td>0.070827</td>\n",
              "      <td>-7.3004</td>\n",
              "      <td>1</td>\n",
              "    </tr>\n",
              "    <tr>\n",
              "      <th>1164</th>\n",
              "      <td>-6.33640</td>\n",
              "      <td>9.2848</td>\n",
              "      <td>0.014275</td>\n",
              "      <td>-6.7844</td>\n",
              "      <td>1</td>\n",
              "    </tr>\n",
              "    <tr>\n",
              "      <th>1203</th>\n",
              "      <td>-6.73870</td>\n",
              "      <td>6.9879</td>\n",
              "      <td>0.678330</td>\n",
              "      <td>-7.5887</td>\n",
              "      <td>1</td>\n",
              "    </tr>\n",
              "    <tr>\n",
              "      <th>1218</th>\n",
              "      <td>-5.44140</td>\n",
              "      <td>7.2363</td>\n",
              "      <td>0.109380</td>\n",
              "      <td>-7.5642</td>\n",
              "      <td>1</td>\n",
              "    </tr>\n",
              "    <tr>\n",
              "      <th>1225</th>\n",
              "      <td>-6.52350</td>\n",
              "      <td>9.6014</td>\n",
              "      <td>-0.253920</td>\n",
              "      <td>-6.9642</td>\n",
              "      <td>1</td>\n",
              "    </tr>\n",
              "    <tr>\n",
              "      <th>1264</th>\n",
              "      <td>-6.65100</td>\n",
              "      <td>6.7934</td>\n",
              "      <td>0.686040</td>\n",
              "      <td>-7.5887</td>\n",
              "      <td>1</td>\n",
              "    </tr>\n",
              "    <tr>\n",
              "      <th>1279</th>\n",
              "      <td>-5.30120</td>\n",
              "      <td>7.3915</td>\n",
              "      <td>0.029699</td>\n",
              "      <td>-7.3987</td>\n",
              "      <td>1</td>\n",
              "    </tr>\n",
              "    <tr>\n",
              "      <th>1286</th>\n",
              "      <td>-6.42470</td>\n",
              "      <td>9.5311</td>\n",
              "      <td>0.022844</td>\n",
              "      <td>-6.8517</td>\n",
              "      <td>1</td>\n",
              "    </tr>\n",
              "  </tbody>\n",
              "</table>\n",
              "</div>"
            ],
            "text/plain": [
              "      variance  skewness  curtosis  entropy  class\n",
              "41    -0.20620    9.2207 -3.704400  -6.8103      0\n",
              "45    -0.78690    9.5663 -3.786700  -7.5034      0\n",
              "47    -0.78690    9.5663 -3.786700  -7.5034      0\n",
              "59    -0.78289   11.3603 -0.376440  -7.0495      0\n",
              "139   -0.20620    9.2207 -3.704400  -6.8103      0\n",
              "194   -2.34100   12.3784  0.704030  -7.5836      0\n",
              "202   -0.78689    9.5663 -3.786700  -7.5034      0\n",
              "291   -2.21530   11.9625  0.078538  -7.7853      0\n",
              "341   -1.18040   11.5093  0.155650  -6.8194      0\n",
              "394   -2.26230   12.1177  0.288460  -7.7581      0\n",
              "465   -2.69890   12.1984  0.676610  -8.5482      0\n",
              "529   -1.38850   12.5026  0.691180  -7.5487      0\n",
              "543   -1.42170   11.6542 -0.057699  -7.1025      0\n",
              "562   -2.46040   12.7302  0.917380  -7.6418      0\n",
              "581   -1.96670   11.8052 -0.404720  -7.8719      0\n",
              "606   -1.42750   11.8797  0.416130  -6.9978      0\n",
              "615   -0.20620    9.2207 -3.704400  -6.8103      0\n",
              "740   -2.44730   12.6247  0.735730  -7.6612      0\n",
              "776   -5.90340    6.5679  0.676610  -6.6797      1\n",
              "791   -4.47790    7.3708 -0.312180  -6.7754      1\n",
              "837   -6.28150    6.6651  0.525810  -7.0107      1\n",
              "852   -4.88610    7.0542 -0.172520  -6.9590      1\n",
              "898   -5.24060    6.6258 -0.199080  -6.8607      1\n",
              "974   -5.03010    7.5032 -0.133960  -7.5034      1\n",
              "1142  -6.57730    6.8017  0.854830  -7.5344      1\n",
              "1157  -5.20490    7.2590  0.070827  -7.3004      1\n",
              "1164  -6.33640    9.2848  0.014275  -6.7844      1\n",
              "1203  -6.73870    6.9879  0.678330  -7.5887      1\n",
              "1218  -5.44140    7.2363  0.109380  -7.5642      1\n",
              "1225  -6.52350    9.6014 -0.253920  -6.9642      1\n",
              "1264  -6.65100    6.7934  0.686040  -7.5887      1\n",
              "1279  -5.30120    7.3915  0.029699  -7.3987      1\n",
              "1286  -6.42470    9.5311  0.022844  -6.8517      1"
            ]
          },
          "execution_count": 11,
          "metadata": {},
          "output_type": "execute_result"
        }
      ],
      "source": [
        "# entropy\n",
        "q1_entropy = df['entropy'].quantile(0.25)\n",
        "q3_entropy = df['entropy'].quantile(0.75)\n",
        "iqr_entropy = q3_entropy - q1_entropy\n",
        "upper_bound_entropy = q3_entropy + 1.5 * iqr_entropy\n",
        "lower_bound_entropy = q1_entropy - 1.5 * iqr_entropy\n",
        "print(f\"Upper bound = {upper_bound_entropy}\")\n",
        "print(f\"Lower bound = {lower_bound_entropy}\")\n",
        "\n",
        "df[(df['entropy'] < lower_bound_entropy) | (df['entropy'] > upper_bound_entropy)]"
      ]
    },
    {
      "cell_type": "markdown",
      "metadata": {
        "id": "8tUGStQ_wR4P"
      },
      "source": [
        "## I.3\n",
        "Carilah:\n",
        "1. Korelasi antar fitur\n",
        "2. Visualisasikan distribusi dari tiap fitur (kategorikal dan kontinu)\n",
        "3. Visualisasikan distribusi dari tiap fitur, dengan data dibagi tiap unique values fitur survived"
      ]
    },
    {
      "cell_type": "code",
      "execution_count": 12,
      "metadata": {
        "colab": {
          "base_uri": "https://localhost:8080/",
          "height": 374
        },
        "id": "XoBqyQA1wRNX",
        "outputId": "3ae16c21-be4f-4f05-b94c-5c928afe75dc"
      },
      "outputs": [
        {
          "data": {
            "image/png": "[encoded data removed]",
            "text/plain": [
              "<Figure size 432x288 with 2 Axes>"
            ]
          },
          "metadata": {
            "needs_background": "light"
          },
          "output_type": "display_data"
        }
      ],
      "source": [
        "# I.3 Put your code here\n",
        "plt.figure(figsize=(6, 4))\n",
        "sns.heatmap(df.corr(), annot=True, cmap='coolwarm', fmt='.2f')\n",
        "# plt.title(\"Correlation Matrix Heatmap\")\n",
        "plt.show()"
      ]
    },
    {
      "cell_type": "code",
      "execution_count": 13,
      "metadata": {
        "colab": {
          "base_uri": "https://localhost:8080/",
          "height": 410
        },
        "id": "GMqD-qOkLv6N",
        "outputId": "489fc586-1406-483c-b327-9f9c3317664d"
      },
      "outputs": [
        {
          "data": {
            "image/png": "[encoded data removed]",
            "text/plain": [
              "<Figure size 432x288 with 1 Axes>"
            ]
          },
          "metadata": {
            "needs_background": "light"
          },
          "output_type": "display_data"
        }
      ],
      "source": [
        "plt.figure(figsize=(6, 4))\n",
        "sns.kdeplot(df['variance'], color='red', fill=True)\n",
        "plt.title(\"Kernel Density Plot of Image Variance\")\n",
        "plt.xlabel(\"Image Variance\")\n",
        "plt.ylabel(\"Density\")\n",
        "plt.show()"
      ]
    },
    {
      "cell_type": "code",
      "execution_count": 14,
      "metadata": {
        "colab": {
          "base_uri": "https://localhost:8080/",
          "height": 410
        },
        "id": "L1jOuxRoOAjH",
        "outputId": "5f3b4db7-9fff-4094-bca4-ef9a869f66d7"
      },
      "outputs": [
        {
          "data": {
            "image/png": "[encoded data removed]",
            "text/plain": [
              "<Figure size 432x288 with 1 Axes>"
            ]
          },
          "metadata": {
            "needs_background": "light"
          },
          "output_type": "display_data"
        }
      ],
      "source": [
        "plt.figure(figsize=(6, 4))\n",
        "sns.kdeplot(df['skewness'], color='blue', fill=True)\n",
        "plt.title(\"Kernel Density Plot of Image Skewness\")\n",
        "plt.xlabel(\"Image Skewness\")\n",
        "plt.ylabel(\"Density\")\n",
        "plt.show()"
      ]
    },
    {
      "cell_type": "code",
      "execution_count": 15,
      "metadata": {
        "colab": {
          "base_uri": "https://localhost:8080/",
          "height": 410
        },
        "id": "qxGORHI3O1QG",
        "outputId": "5b6a4a04-c472-42de-d08a-8390f58075fa"
      },
      "outputs": [
        {
          "data": {
            "image/png": "[encoded data removed]",
            "text/plain": [
              "<Figure size 432x288 with 1 Axes>"
            ]
          },
          "metadata": {
            "needs_background": "light"
          },
          "output_type": "display_data"
        }
      ],
      "source": [
        "plt.figure(figsize=(6, 4))\n",
        "sns.kdeplot(df['curtosis'], color='green', fill=True)\n",
        "plt.title(\"Kernel Density Plot of Image Curtosis\")\n",
        "plt.xlabel(\"Image Curtosis\")\n",
        "plt.ylabel(\"Density\")\n",
        "plt.show()"
      ]
    },
    {
      "cell_type": "code",
      "execution_count": 16,
      "metadata": {
        "colab": {
          "base_uri": "https://localhost:8080/",
          "height": 410
        },
        "id": "s_ORg2raO1cY",
        "outputId": "3e9d69e7-d32f-4b23-b23b-8cd08eb4bdb9"
      },
      "outputs": [
        {
          "data": {
            "image/png": "[encoded data removed]",
            "text/plain": [
              "<Figure size 432x288 with 1 Axes>"
            ]
          },
          "metadata": {
            "needs_background": "light"
          },
          "output_type": "display_data"
        }
      ],
      "source": [
        "plt.figure(figsize=(6, 4))\n",
        "sns.kdeplot(df['entropy'], color='purple', fill=True)\n",
        "plt.title(\"Kernel Density Plot of Image Entropy\")\n",
        "plt.xlabel(\"Image Entropy\")\n",
        "plt.ylabel(\"Density\")\n",
        "plt.show()"
      ]
    },
    {
      "cell_type": "code",
      "execution_count": 17,
      "metadata": {
        "colab": {
          "base_uri": "https://localhost:8080/",
          "height": 541
        },
        "id": "Vnuhg-c_PIdf",
        "outputId": "f68a35be-08ca-4752-c1f0-1ab59ba83053"
      },
      "outputs": [
        {
          "data": {
            "text/plain": [
              "<Figure size 432x288 with 0 Axes>"
            ]
          },
          "metadata": {},
          "output_type": "display_data"
        },
        {
          "data": {
            "image/png": "[encoded data removed]",
            "text/plain": [
              "<Figure size 360x360 with 1 Axes>"
            ]
          },
          "metadata": {
            "needs_background": "light"
          },
          "output_type": "display_data"
        }
      ],
      "source": [
        "plt.figure(figsize=(6, 4))\n",
        "sns.displot(df['class'], color='red', discrete=True)\n",
        "plt.title(\"Class Distribution\")\n",
        "plt.xlabel(\"Class\")\n",
        "plt.ylabel(\"Frequency\")\n",
        "plt.show()"
      ]
    },
    {
      "cell_type": "markdown",
      "metadata": {
        "id": "kV3BDt235mdz"
      },
      "source": [
        "## I.4\n",
        "Lakukanlah analisa pada data lebih lanjut jika dibutuhkan, kemudian lakukanlah:\n",
        "1. Penambahan fitur jika memungkinkan\n",
        "2. Pembuangan fitur yang menurut kalian tidak dibutuhkan\n",
        "3. Penanganan missing values\n",
        "4. Transformasi data kategorikal menjadi numerikal (encoding), dengan metode yang kalian inginkan\n",
        "5. Lakukan scaling dengan MinMaxScaler"
      ]
    },
    {
      "cell_type": "code",
      "execution_count": 18,
      "metadata": {
        "colab": {
          "base_uri": "https://localhost:8080/",
          "height": 423
        },
        "id": "jlTGspG_56re",
        "outputId": "ad52222a-2488-47ae-9e97-e4167ca8e4ce"
      },
      "outputs": [
        {
          "data": {
            "text/html": [
              "<div>\n",
              "<style scoped>\n",
              "    .dataframe tbody tr th:only-of-type {\n",
              "        vertical-align: middle;\n",
              "    }\n",
              "\n",
              "    .dataframe tbody tr th {\n",
              "        vertical-align: top;\n",
              "    }\n",
              "\n",
              "    .dataframe thead th {\n",
              "        text-align: right;\n",
              "    }\n",
              "</style>\n",
              "<table border=\"1\" class=\"dataframe\">\n",
              "  <thead>\n",
              "    <tr style=\"text-align: right;\">\n",
              "      <th></th>\n",
              "      <th>variance</th>\n",
              "      <th>skewness</th>\n",
              "      <th>curtosis</th>\n",
              "      <th>entropy</th>\n",
              "      <th>class</th>\n",
              "    </tr>\n",
              "  </thead>\n",
              "  <tbody>\n",
              "    <tr>\n",
              "      <th>0</th>\n",
              "      <td>0.769004</td>\n",
              "      <td>0.839643</td>\n",
              "      <td>0.106783</td>\n",
              "      <td>0.736628</td>\n",
              "      <td>0</td>\n",
              "    </tr>\n",
              "    <tr>\n",
              "      <th>1</th>\n",
              "      <td>0.835659</td>\n",
              "      <td>0.820982</td>\n",
              "      <td>0.121804</td>\n",
              "      <td>0.644326</td>\n",
              "      <td>0</td>\n",
              "    </tr>\n",
              "    <tr>\n",
              "      <th>2</th>\n",
              "      <td>0.786629</td>\n",
              "      <td>0.416648</td>\n",
              "      <td>0.310608</td>\n",
              "      <td>0.786951</td>\n",
              "      <td>0</td>\n",
              "    </tr>\n",
              "    <tr>\n",
              "      <th>3</th>\n",
              "      <td>0.757105</td>\n",
              "      <td>0.871699</td>\n",
              "      <td>0.054921</td>\n",
              "      <td>0.450440</td>\n",
              "      <td>0</td>\n",
              "    </tr>\n",
              "    <tr>\n",
              "      <th>4</th>\n",
              "      <td>0.531578</td>\n",
              "      <td>0.348662</td>\n",
              "      <td>0.424662</td>\n",
              "      <td>0.687362</td>\n",
              "      <td>0</td>\n",
              "    </tr>\n",
              "    <tr>\n",
              "      <th>...</th>\n",
              "      <td>...</td>\n",
              "      <td>...</td>\n",
              "      <td>...</td>\n",
              "      <td>...</td>\n",
              "      <td>...</td>\n",
              "    </tr>\n",
              "    <tr>\n",
              "      <th>1367</th>\n",
              "      <td>0.537124</td>\n",
              "      <td>0.565855</td>\n",
              "      <td>0.165249</td>\n",
              "      <td>0.726398</td>\n",
              "      <td>1</td>\n",
              "    </tr>\n",
              "    <tr>\n",
              "      <th>1368</th>\n",
              "      <td>0.407690</td>\n",
              "      <td>0.332868</td>\n",
              "      <td>0.506753</td>\n",
              "      <td>0.808350</td>\n",
              "      <td>1</td>\n",
              "    </tr>\n",
              "    <tr>\n",
              "      <th>1369</th>\n",
              "      <td>0.237385</td>\n",
              "      <td>0.011768</td>\n",
              "      <td>0.985603</td>\n",
              "      <td>0.524755</td>\n",
              "      <td>1</td>\n",
              "    </tr>\n",
              "    <tr>\n",
              "      <th>1370</th>\n",
              "      <td>0.250842</td>\n",
              "      <td>0.201701</td>\n",
              "      <td>0.761587</td>\n",
              "      <td>0.660675</td>\n",
              "      <td>1</td>\n",
              "    </tr>\n",
              "    <tr>\n",
              "      <th>1371</th>\n",
              "      <td>0.324528</td>\n",
              "      <td>0.490747</td>\n",
              "      <td>0.343348</td>\n",
              "      <td>0.885949</td>\n",
              "      <td>1</td>\n",
              "    </tr>\n",
              "  </tbody>\n",
              "</table>\n",
              "<p>1372 rows × 5 columns</p>\n",
              "</div>"
            ],
            "text/plain": [
              "      variance  skewness  curtosis   entropy  class\n",
              "0     0.769004  0.839643  0.106783  0.736628      0\n",
              "1     0.835659  0.820982  0.121804  0.644326      0\n",
              "2     0.786629  0.416648  0.310608  0.786951      0\n",
              "3     0.757105  0.871699  0.054921  0.450440      0\n",
              "4     0.531578  0.348662  0.424662  0.687362      0\n",
              "...        ...       ...       ...       ...    ...\n",
              "1367  0.537124  0.565855  0.165249  0.726398      1\n",
              "1368  0.407690  0.332868  0.506753  0.808350      1\n",
              "1369  0.237385  0.011768  0.985603  0.524755      1\n",
              "1370  0.250842  0.201701  0.761587  0.660675      1\n",
              "1371  0.324528  0.490747  0.343348  0.885949      1\n",
              "\n",
              "[1372 rows x 5 columns]"
            ]
          },
          "execution_count": 18,
          "metadata": {},
          "output_type": "execute_result"
        }
      ],
      "source": [
        "# I.4 Put your code here\n",
        "scaler = MinMaxScaler()\n",
        "y = df['class']\n",
        "X = df.drop(['class'], axis=1)\n",
        "X_scaled = scaler.fit_transform(X)\n",
        "df_scaled = pd.DataFrame(X_scaled, columns=X.columns)\n",
        "df_scaled['class'] = y\n",
        "df_scaled"
      ]
    },
    {
      "cell_type": "markdown",
      "metadata": {
        "id": "mt2zHZRauLIm"
      },
      "source": [
        "# II. Experiments Design\n",
        "Tujuan dari bagian ini adalah peserta dapat memahami cara melakukan eksperimen mencari metode terbaik dengan benar. Hal ini meliputi:\n",
        "1. Pembuatan model\n",
        "2. Proses validasi\n",
        "3. Hyperparameter tuning"
      ]
    },
    {
      "cell_type": "markdown",
      "metadata": {
        "id": "Kf4xsl8RydIt"
      },
      "source": [
        "## II.1\n",
        "Tentukanlah metrics yang akan digunakan pada eksperimen kali ini (dapat lebih dari 1 metric)"
      ]
    },
    {
      "cell_type": "markdown",
      "metadata": {
        "id": "S2I0axfj4OuC"
      },
      "source": [
        "Put your answer for section II.1 here\n",
        "\n",
        "Metric yang akan digunakan pada eksperimen kali ini adalah F1-score. F1-score merupakan salah satu metric yang dapat digunakan untuk binary classification. Berbeda dengan akurasi biasa, f1-score memperhitungkan rasio dari fitur target."
      ]
    },
    {
      "cell_type": "markdown",
      "metadata": {
        "id": "FONT0OyUyoQG"
      },
      "source": [
        "## II.2\n",
        "Bagi data dengan perbandingan 0.8 untuk data train dan 0.2 untuk data validasi"
      ]
    },
    {
      "cell_type": "code",
      "execution_count": 19,
      "metadata": {
        "id": "Gqa9nn5muMS2"
      },
      "outputs": [],
      "source": [
        "# II.2 Put your code here\n",
        "X_scaled = df_scaled.drop(['class'], axis=1)\n",
        "y_scaled = df_scaled['class']\n",
        "X_train, X_test, y_train, y_test = train_test_split(X_scaled, y_scaled, test_size=0.2, random_state=1920)"
      ]
    },
    {
      "cell_type": "markdown",
      "metadata": {
        "id": "V4yS8O3tyyyh"
      },
      "source": [
        "## II.3\n",
        "Lakukanlah:\n",
        "1. Prediksi dengan menggunakan model Logistic Regression sebagai *baseline*\n",
        "2. Tampilkan evaluasi dari model yang dibangun dari metrics yang anda tentukan pada II.1\n",
        "3. Tampilkan confusion matrix"
      ]
    },
    {
      "cell_type": "code",
      "execution_count": 20,
      "metadata": {
        "id": "EpEqAz94yyQo"
      },
      "outputs": [
        {
          "name": "stdout",
          "output_type": "stream",
          "text": [
            "F1-score = 0.9802371541501976\n",
            "\n",
            "Validation detail:\n",
            "              precision    recall  f1-score   support\n",
            "\n",
            "           0       0.99      0.98      0.98       149\n",
            "           1       0.98      0.98      0.98       126\n",
            "\n",
            "    accuracy                           0.98       275\n",
            "   macro avg       0.98      0.98      0.98       275\n",
            "weighted avg       0.98      0.98      0.98       275\n",
            "\n"
          ]
        },
        {
          "data": {
            "image/png": "[encoded data removed]",
            "text/plain": [
              "<Figure size 432x288 with 2 Axes>"
            ]
          },
          "metadata": {
            "needs_background": "light"
          },
          "output_type": "display_data"
        }
      ],
      "source": [
        "# II.3 Put your code here\n",
        "model = LogisticRegression()\n",
        "model.fit(X_train, y_train)\n",
        "y_pred = model.predict(X_test)\n",
        "f1 = f1_score(y_true=y_test, y_pred=y_pred)\n",
        "report = classification_report(y_test, y_pred)\n",
        "cm = confusion_matrix(y_test, y_pred)\n",
        "\n",
        "print(f\"F1-score = {f1}\\n\")\n",
        "print(\"Validation detail:\")\n",
        "print(report)\n",
        "sns.heatmap(cm, annot=True)\n",
        "plt.title(\"Confusion Matrix\")\n",
        "plt.xlabel(\"Predicted label\")\n",
        "plt.ylabel(\"True label\")\n",
        "plt.show()"
      ]
    },
    {
      "cell_type": "markdown",
      "metadata": {
        "id": "aFB2AlZfzU54"
      },
      "source": [
        "## II.4\n",
        "Lakukanlah:\n",
        "1. Pembelajaran dengan model lain\n",
        "2. Hyperparameter tuning model yang kalian pakai dengan menggunakan Grid Search (perhatikan random factor pada beberapa algoritma model)\n",
        "3. Lakukan validasi dengan menggunakan cross validation\n"
      ]
    },
    {
      "cell_type": "code",
      "execution_count": 21,
      "metadata": {
        "id": "df0YVJ7dzUSc"
      },
      "outputs": [],
      "source": [
        "# II.4 Put your code here\n",
        "model = XGBClassifier()\n",
        "param_grid = {\n",
        "    'learning_rate': [0.1, 0.01],\n",
        "    'max_depth': [3, 5, 7],\n",
        "    'gamma': [0.0, 0.1, 0.2],\n",
        "    'subsample': [0.8, 1.0],\n",
        "    'n_estimators' : [100, 300, 500]\n",
        "}\n",
        "\n",
        "grid_search = GridSearchCV(estimator=model, param_grid=param_grid, cv=5, scoring='accuracy')\n",
        "grid_search.fit(X_train, y_train)\n",
        "best_params = grid_search.best_params_\n",
        "best_model = grid_search.best_estimator_"
      ]
    },
    {
      "cell_type": "code",
      "execution_count": 22,
      "metadata": {},
      "outputs": [
        {
          "name": "stdout",
          "output_type": "stream",
          "text": [
            "F1-score = 1.0\n",
            "\n",
            "Validation detail:\n",
            "              precision    recall  f1-score   support\n",
            "\n",
            "           0       1.00      1.00      1.00       149\n",
            "           1       1.00      1.00      1.00       126\n",
            "\n",
            "    accuracy                           1.00       275\n",
            "   macro avg       1.00      1.00      1.00       275\n",
            "weighted avg       1.00      1.00      1.00       275\n",
            "\n"
          ]
        }
      ],
      "source": [
        "# Validation using test data\n",
        "y_pred = best_model.predict(X_test)\n",
        "f1 = f1_score(y_true=y_test, y_pred=y_pred)\n",
        "report = classification_report(y_test, y_pred)\n",
        "cm = confusion_matrix(y_test, y_pred)\n",
        "print(f\"F1-score = {f1}\\n\")\n",
        "print(\"Validation detail:\")\n",
        "print(report)"
      ]
    },
    {
      "cell_type": "code",
      "execution_count": 23,
      "metadata": {},
      "outputs": [
        {
          "name": "stdout",
          "output_type": "stream",
          "text": [
            "Cross validation f1-score: [0.99631984 0.99262102 0.99630902 1.         0.99630902]\n",
            "Mean cross validation f1-score: 0.9963117784146795\n"
          ]
        }
      ],
      "source": [
        "# Default parameter\n",
        "model = XGBClassifier()\n",
        "model.fit(X_train, y_train)\n",
        "\n",
        "# Cross validation using the entire dataset\n",
        "cross_val_f1 = cross_val_score(model, X_scaled, y_scaled, scoring='f1_macro', cv=5)\n",
        "print(f\"Cross validation f1-score: {cross_val_f1}\")\n",
        "print(f\"Mean cross validation f1-score: {cross_val_f1.mean()}\")"
      ]
    },
    {
      "cell_type": "code",
      "execution_count": 24,
      "metadata": {},
      "outputs": [
        {
          "name": "stdout",
          "output_type": "stream",
          "text": [
            "Cross validation f1-score: [0.99631984 0.99631372 0.99630902 1.         1.        ]\n",
            "Mean cross validation f1-score: 0.9977885160808608\n"
          ]
        }
      ],
      "source": [
        "# After grid search\n",
        "\n",
        "# Cross validation using the entire dataset\n",
        "cross_val_f1 = cross_val_score(best_model, X_scaled, y_scaled, scoring='f1_macro', cv=5)\n",
        "print(f\"Cross validation f1-score: {cross_val_f1}\")\n",
        "print(f\"Mean cross validation f1-score: {cross_val_f1.mean()}\")"
      ]
    },
    {
      "cell_type": "markdown",
      "metadata": {
        "id": "5ePIGuRZuNZb"
      },
      "source": [
        "# III. Improvement\n",
        "Terdapat beberapa metode untuk melakukan peningkatan performa, contohnya adalah:\n",
        "1. Melakukan oversampling / undersampling pada data\n",
        "2. Menggabungkan beberapa model\n",
        "\n",
        "Pada bagian ini, kalian diharapkan dapat:\n",
        "1. Melakukan training dengan data hasil oversampling / undersampling dan melakukan validasi dengan benar\n",
        "2. Memahami beberapa metode untuk menggabungkan beberapa model"
      ]
    },
    {
      "cell_type": "markdown",
      "metadata": {
        "id": "NGgjXVqf1vhN"
      },
      "source": [
        "## III.1\n",
        "Lakukanlah:\n",
        "1. Oversampling pada kelas minoritas pada data train, kemudian train dengan model *baseline* (II.3), lakukan validasi dengan data validasi. Data train dan validasi adalah data yang kalian bagi pada bagian II.2\n",
        "2. Undersampling pada kelas mayoritas pada data train, kemudian train dengan model *baseline* (II.3) lakukan validasi dengan data validasi. Data train dan validasi adalah data yang kalian bagi pada bagian II.2"
      ]
    },
    {
      "cell_type": "code",
      "execution_count": 27,
      "metadata": {
        "id": "bLLLsyoF2GIM"
      },
      "outputs": [
        {
          "name": "stdout",
          "output_type": "stream",
          "text": [
            "F1-score = 0.9842519685039369\n",
            "\n",
            "              precision    recall  f1-score   support\n",
            "\n",
            "           0       0.99      0.98      0.99       149\n",
            "           1       0.98      0.99      0.98       126\n",
            "\n",
            "    accuracy                           0.99       275\n",
            "   macro avg       0.98      0.99      0.99       275\n",
            "weighted avg       0.99      0.99      0.99       275\n",
            "\n"
          ]
        }
      ],
      "source": [
        "# Oversampling using SMOTE\n",
        "from imblearn.over_sampling import SMOTE\n",
        "smt = SMOTE()\n",
        "X_train_os, y_train_os = smt.fit_resample(X_train, y_train)\n",
        "\n",
        "model = LogisticRegression()\n",
        "model.fit(X_train_os, y_train_os)\n",
        "y_pred = model.predict(X_test)\n",
        "print(f\"F1-score = {f1_score(y_test, y_pred)}\\n\")\n",
        "print(classification_report(y_test, y_pred))"
      ]
    },
    {
      "cell_type": "code",
      "execution_count": 30,
      "metadata": {},
      "outputs": [
        {
          "name": "stdout",
          "output_type": "stream",
          "text": [
            "F1-score = 0.9802371541501976\n",
            "\n",
            "              precision    recall  f1-score   support\n",
            "\n",
            "           0       0.99      0.98      0.98       149\n",
            "           1       0.98      0.98      0.98       126\n",
            "\n",
            "    accuracy                           0.98       275\n",
            "   macro avg       0.98      0.98      0.98       275\n",
            "weighted avg       0.98      0.98      0.98       275\n",
            "\n"
          ]
        }
      ],
      "source": [
        "# Undersampling using Near Miss\n",
        "from imblearn.under_sampling import NearMiss\n",
        "\n",
        "nm = NearMiss()\n",
        "X_train_nm, y_train_nm = nm.fit_resample(X_train, y_train)\n",
        "\n",
        "model = LogisticRegression()\n",
        "model.fit(X_train_nm, y_train_nm)\n",
        "y_pred = model.predict(X_test)\n",
        "print(f\"F1-score = {f1_score(y_test, y_pred)}\\n\")\n",
        "print(classification_report(y_test, y_pred))"
      ]
    },
    {
      "cell_type": "markdown",
      "metadata": {
        "id": "FtbGHN3P2Fxe"
      },
      "source": [
        "## III.2\n",
        "Lakukanlah:\n",
        "1. Eksplorasi soft voting, hard voting, dan stacking\n",
        "2. Buatlah model Logistic Regression dan SVM (boleh menggunakan model dengan beberapa parameter yang berbeda)\n",
        "3. Lakukanlah soft voting dari model-model yang sudah kalian buat pada poin 2\n",
        "4. Lakukan hard voting dari model-model yang sudah kalian buat pada poin 2\n",
        "5. Lakukanlah stacking dengan final classifier adalah Logistic Regression dari model-model yang sudah kalian buat pada poin 2\n",
        "6. Lakukan validasi dengan metrics yang kalian tentukan untuk poin 3, 4, dan 5"
      ]
    },
    {
      "cell_type": "markdown",
      "metadata": {
        "id": "NfGqy72SAZ-t"
      },
      "source": [
        "Put your answer for section III.2 point 1 here"
      ]
    },
    {
      "cell_type": "code",
      "execution_count": 31,
      "metadata": {
        "id": "zdchguBQtErx"
      },
      "outputs": [
        {
          "name": "stdout",
          "output_type": "stream",
          "text": [
            "F1-score = 1.0\n",
            "              precision    recall  f1-score   support\n",
            "\n",
            "           0       1.00      1.00      1.00       149\n",
            "           1       1.00      1.00      1.00       126\n",
            "\n",
            "    accuracy                           1.00       275\n",
            "   macro avg       1.00      1.00      1.00       275\n",
            "weighted avg       1.00      1.00      1.00       275\n",
            "\n"
          ]
        }
      ],
      "source": [
        "# Soft Voting\n",
        "model_1 = LogisticRegression(penalty='l2', solver='liblinear')\n",
        "model_2 = LogisticRegression(penalty='elasticnet', solver='saga', l1_ratio=0.5)\n",
        "model_3 = SVC(kernel='rbf', probability=True)\n",
        "\n",
        "model_1.fit(X_train, y_train)\n",
        "model_2.fit(X_train, y_train)\n",
        "model_3.fit(X_train, y_train)\n",
        "\n",
        "class_prob_1 = model_1.predict_proba(X_test)\n",
        "class_prob_2 = model_2.predict_proba(X_test)\n",
        "class_prob_3 = model_3.predict_proba(X_test)\n",
        "\n",
        "prob_avg = (class_prob_1[:, 0] + class_prob_2[:, 0] + class_prob_3[:, 0]) / 3\n",
        "y_pred = np.where(prob_avg >= 0.5, 0, 1)\n",
        "\n",
        "print(f\"F1-score = {f1_score(y_test, y_pred)}\")\n",
        "print(classification_report(y_test, y_pred))"
      ]
    },
    {
      "cell_type": "code",
      "execution_count": 32,
      "metadata": {},
      "outputs": [
        {
          "name": "stdout",
          "output_type": "stream",
          "text": [
            "F1-score = 0.9842519685039369\n",
            "              precision    recall  f1-score   support\n",
            "\n",
            "           0       0.99      0.98      0.99       149\n",
            "           1       0.98      0.99      0.98       126\n",
            "\n",
            "    accuracy                           0.99       275\n",
            "   macro avg       0.98      0.99      0.99       275\n",
            "weighted avg       0.99      0.99      0.99       275\n",
            "\n"
          ]
        }
      ],
      "source": [
        "# Hard Voting\n",
        "model_1 = LogisticRegression(penalty='l2', solver='liblinear')\n",
        "model_2 = LogisticRegression(penalty='elasticnet', solver='saga', l1_ratio=0.5)\n",
        "model_3 = SVC(kernel='rbf', probability=True)\n",
        "\n",
        "model_1.fit(X_train, y_train)\n",
        "model_2.fit(X_train, y_train)\n",
        "model_3.fit(X_train, y_train)\n",
        "\n",
        "y_pred_1 = model_1.predict(X_test)\n",
        "y_pred_2 = model_2.predict(X_test)\n",
        "y_pred_3 = model_3.predict(X_test)\n",
        "\n",
        "y_pred = np.where((y_pred_1 + y_pred_2 + y_pred_3) >= 2, 1, 0)\n",
        "\n",
        "print(f\"F1-score = {f1_score(y_test, y_pred)}\")\n",
        "print(classification_report(y_test, y_pred))"
      ]
    },
    {
      "cell_type": "code",
      "execution_count": 33,
      "metadata": {},
      "outputs": [
        {
          "name": "stdout",
          "output_type": "stream",
          "text": [
            "F1-score = 1.0\n",
            "              precision    recall  f1-score   support\n",
            "\n",
            "           0       1.00      1.00      1.00       149\n",
            "           1       1.00      1.00      1.00       126\n",
            "\n",
            "    accuracy                           1.00       275\n",
            "   macro avg       1.00      1.00      1.00       275\n",
            "weighted avg       1.00      1.00      1.00       275\n",
            "\n"
          ]
        }
      ],
      "source": [
        "# Stacking (using class probability)\n",
        "\n",
        "model_1 = LogisticRegression(penalty='l2', solver='liblinear')\n",
        "model_2 = LogisticRegression(penalty='elasticnet', solver='saga', l1_ratio=0.5)\n",
        "model_3 = SVC(kernel='rbf', probability=True)\n",
        "\n",
        "models = [('lr1', model_1), ('lr2', model_2), ('svm', model_3)]\n",
        "\n",
        "meta_model = LogisticRegression()\n",
        "stack_model = StackingClassifier(estimators=models, final_estimator=meta_model)\n",
        "stack_model.fit(X_train, y_train)\n",
        "y_pred = stack_model.predict(X_test)\n",
        "\n",
        "print(f\"F1-score = {f1_score(y_test, y_pred)}\")\n",
        "print(classification_report(y_test, y_pred))"
      ]
    },
    {
      "cell_type": "markdown",
      "metadata": {
        "id": "unmFXb-73OMD"
      },
      "source": [
        "# IV. Analisis\n",
        "Bandingkan hasil dari:\n",
        "1. Model Baseline (II.3)\n",
        "2. Model lain (II.4)\n",
        "3. Hasil undersampling\n",
        "4. Hasil oversampling\n",
        "5. Hasil soft voting\n",
        "6. Hasil hard voting\n",
        "7. Hasil stacking"
      ]
    },
    {
      "cell_type": "markdown",
      "metadata": {
        "id": "e9x0VH2AAkwZ"
      },
      "source": [
        "Beberapa perbandingan hasil training:\n",
        "\n",
        "- Model baseline (Logistic Regression) dengan model lain (XGBoost)\n",
        "Pada test data, performa XGBoost lebih baik dibandingkan dengan Logistic Regression. Hal ini mungkin dikarenakan XGBoost merupakan model yang lebih robust dibandingkan logistic regression.\n",
        "\n",
        "- Model XGBoost parameter default dengan model XGBoost hasil hyperparameter tuning\n",
        "Berdasarkan hasil cross-validation, model XGBoost yang dilakukan hyperparameter tuning memiliki performa yang sedikit lebih baik dibandingkan model dengan parameter default.\n",
        "\n",
        "- Model baseline, hasil undersampling, dan hasil oversampling.\n",
        "Model logistic regression (parameter default) memiliki performa yang lebih baik terhadap data test ketika di-train terhadap data hasil oversampling jika dibandingkan dengan hasil undersampling dan data kontrol (data yang tidak dilakukan proses apa-apa). Hal ini disebabkan oleh penambahan informasi yang serupa pada kelas minoritas sehingga model dapat menangkap pola dengan lebih baik.\n",
        "Proses undersampling tidak menambah performa model karena proses undersampling menghilangkan sebagian data, sementara jumlah data total sendiri sudah berjumlah sedikit.\n",
        "\n",
        "- Model baseline, hasil soft voting, hasil hard voting, dan hasil stacking\n",
        "Secara general, proses penggabungan beberapa model menyebabkan performa prediksi terhadap data test meningkat. Soft voting memiliki peningkatan yang cukup besar dikarenakan proses voting melibatkan probabilitas tiap kelas berdasarkan tiap model. Probabilitas kelas merupakan suatu patokan yang cukup baik karena nilainya merupakan nilai yang continuous dari 0 sampai 1. \n",
        "Hard voting memiliki peningkatan yang paling kecil dibandingkan yang lain karena proses voting mengacu pada hasil akhir klasifikasi (0 atau 1). Pada suatu kasus, bisa saja 1 merupakan mayoritas, namun total probabilitasnya tetap lebih besar kelas 0.\n",
        "Stacking juga memiliki performa yang baik karena hasil input model-model sebelumnya dimasukkan lagi ke dalam model akhir (meta-model) sehingga dapat menangkap pola data dengan lebih baik."
      ]
    }
  ],
  "metadata": {
    "colab": {
      "provenance": []
    },
    "kernelspec": {
      "display_name": "Python 3 (ipykernel)",
      "language": "python",
      "name": "python3"
    },
    "language_info": {
      "codemirror_mode": {
        "name": "ipython",
        "version": 3
      },
      "file_extension": ".py",
      "mimetype": "text/x-python",
      "name": "python",
      "nbconvert_exporter": "python",
      "pygments_lexer": "ipython3",
      "version": "3.10.6"
    }
  },
  "nbformat": 4,
  "nbformat_minor": 0
}
